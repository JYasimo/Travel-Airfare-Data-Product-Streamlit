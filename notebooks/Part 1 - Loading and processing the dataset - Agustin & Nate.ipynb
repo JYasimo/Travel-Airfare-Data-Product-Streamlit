{
 "cells": [
  {
   "cell_type": "markdown",
   "id": "33146fb2",
   "metadata": {},
   "source": [
    "<br>\n",
    "\n",
    "# Data Product with Machine Learning\n",
    "#### Assessment task 3\n",
    "\n",
    "<br>\n",
    "<hr>\n",
    "\n",
    "> AGUSTIN FERRARI\n",
    "\n",
    ">24704114\n",
    "\n",
    ">NOVEMBER 2023\n",
    "\n",
    ">ADVANCED MACHINE LEARNING\n",
    "\n",
    ">UNIVERSITY TECHNOLOGY SYDNEY\n",
    "\n",
    "\n",
    "<hr>\n",
    "\n",
    "<br>\n"
   ]
  },
  {
   "cell_type": "markdown",
   "id": "c36d4489",
   "metadata": {},
   "source": [
    "## Importing Libraries"
   ]
  },
  {
   "cell_type": "code",
   "execution_count": 4,
   "id": "0d27d833-c6e6-43f8-bf3b-da54affa300f",
   "metadata": {
    "tags": []
   },
   "outputs": [],
   "source": [
    "import pandas as pd\n",
    "import matplotlib.pyplot as plt\n",
    "import re\n",
    "import numpy as np\n",
    "import joblib\n",
    "import zipfile\n",
    "import os\n",
    "from sklearn.preprocessing import LabelEncoder\n",
    "import joblib"
   ]
  },
  {
   "cell_type": "markdown",
   "id": "2eca4f27",
   "metadata": {},
   "source": [
    "## Loading dataset\n",
    "\n",
    "a sample of 20% of the dataset"
   ]
  },
  {
   "cell_type": "code",
   "execution_count": 5,
   "id": "c264e00f",
   "metadata": {},
   "outputs": [
    {
     "data": {
      "text/plain": [
       "(2704128, 23)"
      ]
     },
     "execution_count": 5,
     "metadata": {},
     "output_type": "execute_result"
    }
   ],
   "source": [
    "\n",
    "# Load the dataset\n",
    "file_path = r'C:\\Users\\ferra\\OneDrive\\Escritorio\\Master Of Data Science\\Advance Machine Learning\\Advanced_ML_Ass3\\Data\\df_sample.csv'\n",
    "df = pd.read_csv(file_path)\n",
    "df = df.drop('Unnamed: 0',axis=1)\n",
    "\n",
    "# Display shape\n",
    "df.shape\n"
   ]
  },
  {
   "cell_type": "code",
   "execution_count": 6,
   "id": "20e86959",
   "metadata": {},
   "outputs": [
    {
     "data": {
      "text/plain": [
       "Index(['legId', 'searchDate', 'flightDate', 'startingAirport',\n",
       "       'destinationAirport', 'travelDuration', 'isBasicEconomy',\n",
       "       'isRefundable', 'isNonStop', 'totalFare', 'totalTravelDistance',\n",
       "       'segmentsDepartureTimeEpochSeconds', 'segmentsDepartureTimeRaw',\n",
       "       'segmentsArrivalTimeEpochSeconds', 'segmentsArrivalTimeRaw',\n",
       "       'segmentsArrivalAirportCode', 'segmentsDepartureAirportCode',\n",
       "       'segmentsAirlineName', 'segmentsAirlineCode',\n",
       "       'segmentsEquipmentDescription', 'segmentsDurationInSeconds',\n",
       "       'segmentsDistance', 'segmentsCabinCode'],\n",
       "      dtype='object')"
      ]
     },
     "execution_count": 6,
     "metadata": {},
     "output_type": "execute_result"
    }
   ],
   "source": [
    "df.columns"
   ]
  },
  {
   "cell_type": "code",
   "execution_count": 7,
   "id": "23df2fd9",
   "metadata": {},
   "outputs": [
    {
     "data": {
      "text/html": [
       "<div>\n",
       "<style scoped>\n",
       "    .dataframe tbody tr th:only-of-type {\n",
       "        vertical-align: middle;\n",
       "    }\n",
       "\n",
       "    .dataframe tbody tr th {\n",
       "        vertical-align: top;\n",
       "    }\n",
       "\n",
       "    .dataframe thead th {\n",
       "        text-align: right;\n",
       "    }\n",
       "</style>\n",
       "<table border=\"1\" class=\"dataframe\">\n",
       "  <thead>\n",
       "    <tr style=\"text-align: right;\">\n",
       "      <th></th>\n",
       "      <th>legId</th>\n",
       "      <th>searchDate</th>\n",
       "      <th>flightDate</th>\n",
       "      <th>startingAirport</th>\n",
       "      <th>destinationAirport</th>\n",
       "      <th>travelDuration</th>\n",
       "      <th>isBasicEconomy</th>\n",
       "      <th>isRefundable</th>\n",
       "      <th>isNonStop</th>\n",
       "      <th>totalFare</th>\n",
       "      <th>...</th>\n",
       "      <th>segmentsArrivalTimeEpochSeconds</th>\n",
       "      <th>segmentsArrivalTimeRaw</th>\n",
       "      <th>segmentsArrivalAirportCode</th>\n",
       "      <th>segmentsDepartureAirportCode</th>\n",
       "      <th>segmentsAirlineName</th>\n",
       "      <th>segmentsAirlineCode</th>\n",
       "      <th>segmentsEquipmentDescription</th>\n",
       "      <th>segmentsDurationInSeconds</th>\n",
       "      <th>segmentsDistance</th>\n",
       "      <th>segmentsCabinCode</th>\n",
       "    </tr>\n",
       "  </thead>\n",
       "  <tbody>\n",
       "    <tr>\n",
       "      <th>0</th>\n",
       "      <td>397724d1074ba6463dd1b720d085cd8b</td>\n",
       "      <td>2022-04-24</td>\n",
       "      <td>2022-05-04</td>\n",
       "      <td>BOS</td>\n",
       "      <td>LAX</td>\n",
       "      <td>PT8H16M</td>\n",
       "      <td>False</td>\n",
       "      <td>False</td>\n",
       "      <td>False</td>\n",
       "      <td>236.60</td>\n",
       "      <td>...</td>\n",
       "      <td>1651671120||1651695840</td>\n",
       "      <td>2022-05-04T09:32:00.000-04:00||2022-05-04T13:2...</td>\n",
       "      <td>EWR||LAX</td>\n",
       "      <td>BOS||EWR</td>\n",
       "      <td>United||United</td>\n",
       "      <td>UA||UA</td>\n",
       "      <td>Airbus A319||</td>\n",
       "      <td>5040||21240</td>\n",
       "      <td>185||2458</td>\n",
       "      <td>coach||coach</td>\n",
       "    </tr>\n",
       "    <tr>\n",
       "      <th>1</th>\n",
       "      <td>851103458245fbf292b746e2ffdacd87</td>\n",
       "      <td>2022-04-23</td>\n",
       "      <td>2022-05-29</td>\n",
       "      <td>LGA</td>\n",
       "      <td>SFO</td>\n",
       "      <td>PT14H35M</td>\n",
       "      <td>False</td>\n",
       "      <td>False</td>\n",
       "      <td>False</td>\n",
       "      <td>756.09</td>\n",
       "      <td>...</td>\n",
       "      <td>1653840480||1653862560||1653878100</td>\n",
       "      <td>2022-05-29T11:08:00.000-05:00||2022-05-29T16:1...</td>\n",
       "      <td>IAH||DEN||SFO</td>\n",
       "      <td>LGA||IAH||DEN</td>\n",
       "      <td>Delta||United||United</td>\n",
       "      <td>DL||UA||UA</td>\n",
       "      <td>Airbus A220-100||Boeing 737-900||Boeing 737-900</td>\n",
       "      <td>14880||9360||9900</td>\n",
       "      <td>1419||876||954</td>\n",
       "      <td>coach||coach||coach</td>\n",
       "    </tr>\n",
       "    <tr>\n",
       "      <th>2</th>\n",
       "      <td>d6c4e9caa689a75ced18fb8148cd8b66</td>\n",
       "      <td>2022-05-05</td>\n",
       "      <td>2022-05-27</td>\n",
       "      <td>ATL</td>\n",
       "      <td>JFK</td>\n",
       "      <td>PT7H45M</td>\n",
       "      <td>False</td>\n",
       "      <td>False</td>\n",
       "      <td>False</td>\n",
       "      <td>317.20</td>\n",
       "      <td>...</td>\n",
       "      <td>1653655800||1653678000</td>\n",
       "      <td>2022-05-27T08:50:00.000-04:00||2022-05-27T15:0...</td>\n",
       "      <td>ORF||JFK</td>\n",
       "      <td>ATL||ORF</td>\n",
       "      <td>Delta||Delta</td>\n",
       "      <td>DL||DL</td>\n",
       "      <td>Airbus A320||Canadair Regional Jet 900</td>\n",
       "      <td>5700||5460</td>\n",
       "      <td>517||301</td>\n",
       "      <td>coach||coach</td>\n",
       "    </tr>\n",
       "    <tr>\n",
       "      <th>3</th>\n",
       "      <td>b5ea0470ab927851fd0c819d96eefced</td>\n",
       "      <td>2022-05-01</td>\n",
       "      <td>2022-06-21</td>\n",
       "      <td>MIA</td>\n",
       "      <td>DEN</td>\n",
       "      <td>PT7H36M</td>\n",
       "      <td>False</td>\n",
       "      <td>False</td>\n",
       "      <td>False</td>\n",
       "      <td>427.60</td>\n",
       "      <td>...</td>\n",
       "      <td>1655838000||1655854560</td>\n",
       "      <td>2022-06-21T14:00:00.000-05:00||2022-06-21T17:3...</td>\n",
       "      <td>DFW||DEN</td>\n",
       "      <td>MIA||DFW</td>\n",
       "      <td>American Airlines||American Airlines</td>\n",
       "      <td>AA||AA</td>\n",
       "      <td>Airbus A321||Airbus A321</td>\n",
       "      <td>10800||7260</td>\n",
       "      <td>1115||650</td>\n",
       "      <td>coach||coach</td>\n",
       "    </tr>\n",
       "    <tr>\n",
       "      <th>4</th>\n",
       "      <td>867f14d3336a9730af0e35f8ee28f2fb</td>\n",
       "      <td>2022-05-05</td>\n",
       "      <td>2022-05-18</td>\n",
       "      <td>CLT</td>\n",
       "      <td>OAK</td>\n",
       "      <td>PT12H31M</td>\n",
       "      <td>False</td>\n",
       "      <td>False</td>\n",
       "      <td>False</td>\n",
       "      <td>664.60</td>\n",
       "      <td>...</td>\n",
       "      <td>1652881680||1652904960||1652916780</td>\n",
       "      <td>2022-05-18T08:48:00.000-05:00||2022-05-18T14:1...</td>\n",
       "      <td>IAH||SLC||OAK</td>\n",
       "      <td>CLT||IAH||SLC</td>\n",
       "      <td>United||Delta||Delta</td>\n",
       "      <td>UA||DL||DL</td>\n",
       "      <td>Boeing 737-900||Airbus A319||Embraer 175 (Enha...</td>\n",
       "      <td>9960||11700||7080</td>\n",
       "      <td>916||1204||588</td>\n",
       "      <td>coach||coach||coach</td>\n",
       "    </tr>\n",
       "  </tbody>\n",
       "</table>\n",
       "<p>5 rows × 23 columns</p>\n",
       "</div>"
      ],
      "text/plain": [
       "                              legId  searchDate  flightDate startingAirport  \\\n",
       "0  397724d1074ba6463dd1b720d085cd8b  2022-04-24  2022-05-04             BOS   \n",
       "1  851103458245fbf292b746e2ffdacd87  2022-04-23  2022-05-29             LGA   \n",
       "2  d6c4e9caa689a75ced18fb8148cd8b66  2022-05-05  2022-05-27             ATL   \n",
       "3  b5ea0470ab927851fd0c819d96eefced  2022-05-01  2022-06-21             MIA   \n",
       "4  867f14d3336a9730af0e35f8ee28f2fb  2022-05-05  2022-05-18             CLT   \n",
       "\n",
       "  destinationAirport travelDuration  isBasicEconomy  isRefundable  isNonStop  \\\n",
       "0                LAX        PT8H16M           False         False      False   \n",
       "1                SFO       PT14H35M           False         False      False   \n",
       "2                JFK        PT7H45M           False         False      False   \n",
       "3                DEN        PT7H36M           False         False      False   \n",
       "4                OAK       PT12H31M           False         False      False   \n",
       "\n",
       "   totalFare  ...     segmentsArrivalTimeEpochSeconds  \\\n",
       "0     236.60  ...              1651671120||1651695840   \n",
       "1     756.09  ...  1653840480||1653862560||1653878100   \n",
       "2     317.20  ...              1653655800||1653678000   \n",
       "3     427.60  ...              1655838000||1655854560   \n",
       "4     664.60  ...  1652881680||1652904960||1652916780   \n",
       "\n",
       "                              segmentsArrivalTimeRaw  \\\n",
       "0  2022-05-04T09:32:00.000-04:00||2022-05-04T13:2...   \n",
       "1  2022-05-29T11:08:00.000-05:00||2022-05-29T16:1...   \n",
       "2  2022-05-27T08:50:00.000-04:00||2022-05-27T15:0...   \n",
       "3  2022-06-21T14:00:00.000-05:00||2022-06-21T17:3...   \n",
       "4  2022-05-18T08:48:00.000-05:00||2022-05-18T14:1...   \n",
       "\n",
       "  segmentsArrivalAirportCode segmentsDepartureAirportCode  \\\n",
       "0                   EWR||LAX                     BOS||EWR   \n",
       "1              IAH||DEN||SFO                LGA||IAH||DEN   \n",
       "2                   ORF||JFK                     ATL||ORF   \n",
       "3                   DFW||DEN                     MIA||DFW   \n",
       "4              IAH||SLC||OAK                CLT||IAH||SLC   \n",
       "\n",
       "                    segmentsAirlineName segmentsAirlineCode  \\\n",
       "0                        United||United              UA||UA   \n",
       "1                 Delta||United||United          DL||UA||UA   \n",
       "2                          Delta||Delta              DL||DL   \n",
       "3  American Airlines||American Airlines              AA||AA   \n",
       "4                  United||Delta||Delta          UA||DL||DL   \n",
       "\n",
       "                        segmentsEquipmentDescription  \\\n",
       "0                                      Airbus A319||   \n",
       "1    Airbus A220-100||Boeing 737-900||Boeing 737-900   \n",
       "2             Airbus A320||Canadair Regional Jet 900   \n",
       "3                           Airbus A321||Airbus A321   \n",
       "4  Boeing 737-900||Airbus A319||Embraer 175 (Enha...   \n",
       "\n",
       "  segmentsDurationInSeconds segmentsDistance    segmentsCabinCode  \n",
       "0               5040||21240        185||2458         coach||coach  \n",
       "1         14880||9360||9900   1419||876||954  coach||coach||coach  \n",
       "2                5700||5460         517||301         coach||coach  \n",
       "3               10800||7260        1115||650         coach||coach  \n",
       "4         9960||11700||7080   916||1204||588  coach||coach||coach  \n",
       "\n",
       "[5 rows x 23 columns]"
      ]
     },
     "execution_count": 7,
     "metadata": {},
     "output_type": "execute_result"
    }
   ],
   "source": [
    "\n",
    "# Displaying head of the dataset\n",
    "df.head()\n"
   ]
  },
  {
   "cell_type": "markdown",
   "id": "c6679c95",
   "metadata": {},
   "source": [
    "## Descriptive Statistics of the Total Fare Variable"
   ]
  },
  {
   "cell_type": "code",
   "execution_count": 8,
   "id": "a6fa791b",
   "metadata": {},
   "outputs": [
    {
     "data": {
      "text/plain": [
       "count   2704128.000\n",
       "mean        373.887\n",
       "std         207.625\n",
       "min          23.970\n",
       "25%         223.600\n",
       "50%         344.600\n",
       "75%         487.600\n",
       "max        8260.610\n",
       "Name: totalFare, dtype: float64"
      ]
     },
     "execution_count": 8,
     "metadata": {},
     "output_type": "execute_result"
    }
   ],
   "source": [
    "\n",
    "# Set the display options (So it does not display cientific notation)\n",
    "pd.set_option('display.float_format', lambda x: '%.3f' % x)\n",
    "\n",
    "# Describing \"TotalFare\" the outcome variable\n",
    "df['totalFare'].describe()\n"
   ]
  },
  {
   "cell_type": "markdown",
   "id": "37945173",
   "metadata": {},
   "source": [
    "## Distribution Analysis of Total Fare"
   ]
  },
  {
   "cell_type": "code",
   "execution_count": 29,
   "id": "9061d538",
   "metadata": {},
   "outputs": [
    {
     "data": {
      "image/png": "[encoded data removed]",
      "text/plain": [
       "<Figure size 1000x600 with 1 Axes>"
      ]
     },
     "metadata": {},
     "output_type": "display_data"
    }
   ],
   "source": [
    "\n",
    "# Plotting the histogram\n",
    "plt.figure(figsize=(10, 6))\n",
    "plt.hist(df['totalFare'], bins=100, color='skyblue', alpha=0.7)\n",
    "plt.title('Distribution of totalFare')\n",
    "plt.xlabel('totalFare')\n",
    "plt.ylabel('Frequency')\n",
    "plt.show()\n"
   ]
  },
  {
   "cell_type": "code",
   "execution_count": 30,
   "id": "e37aaa2d",
   "metadata": {},
   "outputs": [
    {
     "data": {
      "image/png": "[encoded data removed]",
      "text/plain": [
       "<Figure size 1000x600 with 1 Axes>"
      ]
     },
     "metadata": {},
     "output_type": "display_data"
    }
   ],
   "source": [
    "import numpy as np\n",
    "import matplotlib.pyplot as plt\n",
    "from scipy.stats import gamma\n",
    "\n",
    "# Assuming df is the DataFrame containing 'totalFare'\n",
    "\n",
    "# Plotting the histogram\n",
    "plt.figure(figsize=(10, 6))\n",
    "plt.hist(df['totalFare'], bins=100, color='skyblue', alpha=0.7, density=True, label='Total Fare Distribution')\n",
    "\n",
    "# Adding the gamma distribution curve\n",
    "shape, loc, scale = gamma.fit(df['totalFare'])\n",
    "x = np.linspace(0, df['totalFare'].max(), 100)\n",
    "pdf = gamma.pdf(x, shape, loc, scale)\n",
    "plt.plot(x, pdf, 'r', linewidth=2, label='Gamma Distribution')\n",
    "\n",
    "plt.title('Distribution of totalFare with Gamma Distribution')\n",
    "plt.xlabel('totalFare')\n",
    "plt.ylabel('Frequency / Probability density')\n",
    "plt.legend()\n",
    "plt.show()"
   ]
  },
  {
   "cell_type": "markdown",
   "id": "8bcdbb30",
   "metadata": {},
   "source": [
    "## Select the input from the user\n",
    "\n",
    "df[[\"searchDate\",\"flightDate\",'startingAirport','destinationAirport',\"segmentsCabinCode\",'searchDayOfWeek',\n",
    "       'searchMonth', 'searchYear','totalFare']]"
   ]
  },
  {
   "cell_type": "code",
   "execution_count": 31,
   "id": "80caf0a8",
   "metadata": {},
   "outputs": [
    {
     "data": {
      "text/html": [
       "<div>\n",
       "<style scoped>\n",
       "    .dataframe tbody tr th:only-of-type {\n",
       "        vertical-align: middle;\n",
       "    }\n",
       "\n",
       "    .dataframe tbody tr th {\n",
       "        vertical-align: top;\n",
       "    }\n",
       "\n",
       "    .dataframe thead th {\n",
       "        text-align: right;\n",
       "    }\n",
       "</style>\n",
       "<table border=\"1\" class=\"dataframe\">\n",
       "  <thead>\n",
       "    <tr style=\"text-align: right;\">\n",
       "      <th></th>\n",
       "      <th>searchDate</th>\n",
       "      <th>flightDate</th>\n",
       "      <th>startingAirport</th>\n",
       "      <th>destinationAirport</th>\n",
       "      <th>segmentsCabinCode</th>\n",
       "      <th>totalFare</th>\n",
       "      <th>segmentsDepartureTimeRaw</th>\n",
       "      <th>isRefundable</th>\n",
       "    </tr>\n",
       "  </thead>\n",
       "  <tbody>\n",
       "    <tr>\n",
       "      <th>261037</th>\n",
       "      <td>2022-04-23</td>\n",
       "      <td>2022-05-30</td>\n",
       "      <td>MIA</td>\n",
       "      <td>ATL</td>\n",
       "      <td>coach||coach</td>\n",
       "      <td>667.600</td>\n",
       "      <td>2022-05-30T15:00:00.000-04:00||2022-05-30T21:4...</td>\n",
       "      <td>False</td>\n",
       "    </tr>\n",
       "    <tr>\n",
       "      <th>2158445</th>\n",
       "      <td>2022-04-16</td>\n",
       "      <td>2022-04-24</td>\n",
       "      <td>ATL</td>\n",
       "      <td>BOS</td>\n",
       "      <td>coach||coach||coach</td>\n",
       "      <td>625.200</td>\n",
       "      <td>2022-04-24T08:20:00.000-04:00||2022-04-24T11:3...</td>\n",
       "      <td>False</td>\n",
       "    </tr>\n",
       "    <tr>\n",
       "      <th>243660</th>\n",
       "      <td>2022-04-24</td>\n",
       "      <td>2022-05-18</td>\n",
       "      <td>DEN</td>\n",
       "      <td>SFO</td>\n",
       "      <td>coach||coach</td>\n",
       "      <td>369.600</td>\n",
       "      <td>2022-05-18T14:23:00.000-06:00||2022-05-18T16:5...</td>\n",
       "      <td>False</td>\n",
       "    </tr>\n",
       "    <tr>\n",
       "      <th>2615350</th>\n",
       "      <td>2022-04-25</td>\n",
       "      <td>2022-06-16</td>\n",
       "      <td>DTW</td>\n",
       "      <td>JFK</td>\n",
       "      <td>coach||coach||coach</td>\n",
       "      <td>597.100</td>\n",
       "      <td>2022-06-16T06:00:00.000-04:00||2022-06-16T07:1...</td>\n",
       "      <td>False</td>\n",
       "    </tr>\n",
       "    <tr>\n",
       "      <th>2077421</th>\n",
       "      <td>2022-04-18</td>\n",
       "      <td>2022-04-25</td>\n",
       "      <td>IAD</td>\n",
       "      <td>ATL</td>\n",
       "      <td>coach||coach</td>\n",
       "      <td>199.100</td>\n",
       "      <td>2022-04-25T13:50:00.000-04:00||2022-04-25T17:5...</td>\n",
       "      <td>False</td>\n",
       "    </tr>\n",
       "  </tbody>\n",
       "</table>\n",
       "</div>"
      ],
      "text/plain": [
       "         searchDate  flightDate startingAirport destinationAirport  \\\n",
       "261037   2022-04-23  2022-05-30             MIA                ATL   \n",
       "2158445  2022-04-16  2022-04-24             ATL                BOS   \n",
       "243660   2022-04-24  2022-05-18             DEN                SFO   \n",
       "2615350  2022-04-25  2022-06-16             DTW                JFK   \n",
       "2077421  2022-04-18  2022-04-25             IAD                ATL   \n",
       "\n",
       "           segmentsCabinCode  totalFare  \\\n",
       "261037          coach||coach    667.600   \n",
       "2158445  coach||coach||coach    625.200   \n",
       "243660          coach||coach    369.600   \n",
       "2615350  coach||coach||coach    597.100   \n",
       "2077421         coach||coach    199.100   \n",
       "\n",
       "                                  segmentsDepartureTimeRaw  isRefundable  \n",
       "261037   2022-05-30T15:00:00.000-04:00||2022-05-30T21:4...         False  \n",
       "2158445  2022-04-24T08:20:00.000-04:00||2022-04-24T11:3...         False  \n",
       "243660   2022-05-18T14:23:00.000-06:00||2022-05-18T16:5...         False  \n",
       "2615350  2022-06-16T06:00:00.000-04:00||2022-06-16T07:1...         False  \n",
       "2077421  2022-04-25T13:50:00.000-04:00||2022-04-25T17:5...         False  "
      ]
     },
     "execution_count": 31,
     "metadata": {},
     "output_type": "execute_result"
    }
   ],
   "source": [
    "df = df[[\"searchDate\",\"flightDate\",'startingAirport','destinationAirport',\"segmentsCabinCode\",'totalFare',\"segmentsDepartureTimeRaw\",\"isRefundable\"]]\n",
    "\n",
    "df.head()"
   ]
  },
  {
   "cell_type": "markdown",
   "id": "d1d28cf5",
   "metadata": {},
   "source": [
    "## Rename flightDate into DepartureDate"
   ]
  },
  {
   "cell_type": "code",
   "execution_count": 32,
   "id": "063c91b7",
   "metadata": {},
   "outputs": [],
   "source": [
    "\n",
    "# Renaming the 'flightDate' column to 'DepartureDate'\n",
    "df.rename(columns={'flightDate': 'DepartureDate'}, inplace=True)\n"
   ]
  },
  {
   "cell_type": "markdown",
   "id": "7fdf7f38",
   "metadata": {},
   "source": [
    "## Create DepartureTime"
   ]
  },
  {
   "cell_type": "code",
   "execution_count": 33,
   "id": "69bd6138",
   "metadata": {},
   "outputs": [],
   "source": [
    "\n",
    "# Creating DepartureTime from first segmentsDepartureTimeRaw\n",
    "df['DepartureTime'] = df['segmentsDepartureTimeRaw'].str.split('\\|\\|', expand=True)[0].str.strip().str.split('T', expand=True)[1].str[:5]\n"
   ]
  },
  {
   "cell_type": "code",
   "execution_count": 34,
   "id": "d4def95c",
   "metadata": {},
   "outputs": [],
   "source": [
    "\n",
    "# Dropping \n",
    "df = df.drop(\"segmentsDepartureTimeRaw\",axis=1)\n"
   ]
  },
  {
   "cell_type": "markdown",
   "id": "818212d6",
   "metadata": {},
   "source": [
    "## Feature Engineering segmentsCabinCode"
   ]
  },
  {
   "cell_type": "code",
   "execution_count": 35,
   "id": "9f8c7d08",
   "metadata": {},
   "outputs": [
    {
     "data": {
      "text/html": [
       "<div>\n",
       "<style scoped>\n",
       "    .dataframe tbody tr th:only-of-type {\n",
       "        vertical-align: middle;\n",
       "    }\n",
       "\n",
       "    .dataframe tbody tr th {\n",
       "        vertical-align: top;\n",
       "    }\n",
       "\n",
       "    .dataframe thead th {\n",
       "        text-align: right;\n",
       "    }\n",
       "</style>\n",
       "<table border=\"1\" class=\"dataframe\">\n",
       "  <thead>\n",
       "    <tr style=\"text-align: right;\">\n",
       "      <th></th>\n",
       "      <th>coach</th>\n",
       "      <th>business</th>\n",
       "      <th>premium coach</th>\n",
       "      <th>first</th>\n",
       "    </tr>\n",
       "  </thead>\n",
       "  <tbody>\n",
       "    <tr>\n",
       "      <th>97</th>\n",
       "      <td>0.000</td>\n",
       "      <td>0.000</td>\n",
       "      <td>0.000</td>\n",
       "      <td>1.000</td>\n",
       "    </tr>\n",
       "    <tr>\n",
       "      <th>572</th>\n",
       "      <td>0.500</td>\n",
       "      <td>0.000</td>\n",
       "      <td>0.000</td>\n",
       "      <td>0.500</td>\n",
       "    </tr>\n",
       "    <tr>\n",
       "      <th>1565</th>\n",
       "      <td>0.000</td>\n",
       "      <td>0.000</td>\n",
       "      <td>0.000</td>\n",
       "      <td>1.000</td>\n",
       "    </tr>\n",
       "    <tr>\n",
       "      <th>2492</th>\n",
       "      <td>0.500</td>\n",
       "      <td>0.000</td>\n",
       "      <td>0.000</td>\n",
       "      <td>0.500</td>\n",
       "    </tr>\n",
       "    <tr>\n",
       "      <th>2744</th>\n",
       "      <td>0.500</td>\n",
       "      <td>0.000</td>\n",
       "      <td>0.000</td>\n",
       "      <td>0.500</td>\n",
       "    </tr>\n",
       "  </tbody>\n",
       "</table>\n",
       "</div>"
      ],
      "text/plain": [
       "      coach  business  premium coach  first\n",
       "97    0.000     0.000          0.000  1.000\n",
       "572   0.500     0.000          0.000  0.500\n",
       "1565  0.000     0.000          0.000  1.000\n",
       "2492  0.500     0.000          0.000  0.500\n",
       "2744  0.500     0.000          0.000  0.500"
      ]
     },
     "execution_count": 35,
     "metadata": {},
     "output_type": "execute_result"
    }
   ],
   "source": [
    "# Iterating through each row\n",
    "cabin_counts = []\n",
    "for value in df.segmentsCabinCode:\n",
    "    cabins = value.lower().split('||')  # Converting to lowercase and splitting the values by '||'\n",
    "\n",
    "    # Counting the occurrences for each category in the current value\n",
    "    category_count = {'coach': 0, 'business': 0, 'premium coach': 0, 'first': 0}\n",
    "    for cabin in cabins:\n",
    "        if cabin in category_count:\n",
    "            category_count[cabin] += 1\n",
    "\n",
    "    # Calculating the total count for the current row\n",
    "    total_count = sum(category_count.values())\n",
    "\n",
    "    # Calculating the percentage for each category in the current row\n",
    "    percentage_count = {k: v / total_count for k, v in category_count.items()}\n",
    "\n",
    "    # Appending the dictionary to the list\n",
    "    cabin_counts.append(percentage_count)\n",
    "\n",
    "# Creating a DataFrame from the list of dictionaries\n",
    "cabin_counts_df = pd.DataFrame(cabin_counts)\n",
    "\n",
    "# Print some rows of the calculated dataframe:\n",
    "cabin_counts_df[cabin_counts_df[\"first\"]!=0].head(5)"
   ]
  },
  {
   "cell_type": "code",
   "execution_count": 36,
   "id": "52ad9971",
   "metadata": {},
   "outputs": [],
   "source": [
    "# Adding columns from cabin_counts_df to df\n",
    "\n",
    "# First reset index\n",
    "df = df.reset_index()\n",
    "\n",
    "# Add all 4 columns as relative frequencies from 0 to 1\n",
    "df['coach'] = cabin_counts_df[\"coach\"]\n",
    "df['business'] = cabin_counts_df['business']\n",
    "df['premium coach'] = cabin_counts_df['premium coach']\n",
    "df['first'] = cabin_counts_df['first']\n"
   ]
  },
  {
   "cell_type": "markdown",
   "id": "281f8d2e",
   "metadata": {},
   "source": [
    "## Creating numSegments column\n",
    "\n",
    "It counts how many stop until reaching destination"
   ]
  },
  {
   "cell_type": "code",
   "execution_count": 37,
   "id": "180b6e04",
   "metadata": {},
   "outputs": [],
   "source": [
    "\n",
    "# Adding the number of segments\n",
    "df['numSegments'] = df['segmentsCabinCode'].apply(lambda x: x.count('||') + 1)\n"
   ]
  },
  {
   "cell_type": "code",
   "execution_count": 38,
   "id": "c30b574a",
   "metadata": {},
   "outputs": [],
   "source": [
    "\n",
    "# Drop old index\n",
    "df = df.drop(\"index\",axis=1)\n",
    "\n",
    "# Drop segmentsCabinCode\n",
    "df = df.drop(\"segmentsCabinCode\",axis=1)\n"
   ]
  },
  {
   "cell_type": "markdown",
   "id": "c74dd9e4",
   "metadata": {},
   "source": [
    "## Feature engineering searchDate and flightDate"
   ]
  },
  {
   "cell_type": "code",
   "execution_count": 39,
   "id": "f652cff8",
   "metadata": {},
   "outputs": [],
   "source": [
    "\n",
    "# Extract day of the week, month, and year of searchDate\n",
    "df['searchDate'] = pd.to_datetime(df['searchDate'])\n",
    "df['searchDayOfWeek'] = df['searchDate'].dt.dayofweek\n",
    "df['searchMonth'] = df['searchDate'].dt.month\n",
    "df['searchYear'] = df['searchDate'].dt.year\n"
   ]
  },
  {
   "cell_type": "code",
   "execution_count": 40,
   "id": "92f333d4",
   "metadata": {},
   "outputs": [],
   "source": [
    "\n",
    "# Extract day of the week, month, and year of flightDate\n",
    "df['DepartureDate'] = pd.to_datetime(df['DepartureDate'])\n",
    "df['DepartureDateDayOfWeek'] = df['DepartureDate'].dt.dayofweek\n",
    "df['DepartureDateMonth'] = df['DepartureDate'].dt.month\n",
    "df['DepartureDateYear'] = df['DepartureDate'].dt.year\n"
   ]
  },
  {
   "cell_type": "markdown",
   "id": "8836d32b",
   "metadata": {},
   "source": [
    "## Feature engineering: New column \"daysInAdvance\""
   ]
  },
  {
   "cell_type": "code",
   "execution_count": 41,
   "id": "7e55bd0c",
   "metadata": {},
   "outputs": [],
   "source": [
    "\n",
    "# Creating new column daysInAdvance as the diff between searchDate and flightDate\n",
    "df['daysInAdvance'] = (df['DepartureDate'] - df['searchDate']).dt.days\n"
   ]
  },
  {
   "cell_type": "markdown",
   "id": "b9efd821",
   "metadata": {},
   "source": [
    "## Cleaned df head"
   ]
  },
  {
   "cell_type": "code",
   "execution_count": 42,
   "id": "5f34473c",
   "metadata": {},
   "outputs": [
    {
     "data": {
      "text/html": [
       "<div>\n",
       "<style scoped>\n",
       "    .dataframe tbody tr th:only-of-type {\n",
       "        vertical-align: middle;\n",
       "    }\n",
       "\n",
       "    .dataframe tbody tr th {\n",
       "        vertical-align: top;\n",
       "    }\n",
       "\n",
       "    .dataframe thead th {\n",
       "        text-align: right;\n",
       "    }\n",
       "</style>\n",
       "<table border=\"1\" class=\"dataframe\">\n",
       "  <thead>\n",
       "    <tr style=\"text-align: right;\">\n",
       "      <th></th>\n",
       "      <th>searchDate</th>\n",
       "      <th>DepartureDate</th>\n",
       "      <th>startingAirport</th>\n",
       "      <th>destinationAirport</th>\n",
       "      <th>totalFare</th>\n",
       "      <th>isRefundable</th>\n",
       "      <th>DepartureTime</th>\n",
       "      <th>coach</th>\n",
       "      <th>business</th>\n",
       "      <th>premium coach</th>\n",
       "      <th>first</th>\n",
       "      <th>numSegments</th>\n",
       "      <th>searchDayOfWeek</th>\n",
       "      <th>searchMonth</th>\n",
       "      <th>searchYear</th>\n",
       "      <th>DepartureDateDayOfWeek</th>\n",
       "      <th>DepartureDateMonth</th>\n",
       "      <th>DepartureDateYear</th>\n",
       "      <th>daysInAdvance</th>\n",
       "    </tr>\n",
       "  </thead>\n",
       "  <tbody>\n",
       "    <tr>\n",
       "      <th>0</th>\n",
       "      <td>2022-04-23</td>\n",
       "      <td>2022-05-30</td>\n",
       "      <td>MIA</td>\n",
       "      <td>ATL</td>\n",
       "      <td>667.600</td>\n",
       "      <td>False</td>\n",
       "      <td>15:00</td>\n",
       "      <td>1.000</td>\n",
       "      <td>0.000</td>\n",
       "      <td>0.000</td>\n",
       "      <td>0.000</td>\n",
       "      <td>2</td>\n",
       "      <td>5</td>\n",
       "      <td>4</td>\n",
       "      <td>2022</td>\n",
       "      <td>0</td>\n",
       "      <td>5</td>\n",
       "      <td>2022</td>\n",
       "      <td>37</td>\n",
       "    </tr>\n",
       "    <tr>\n",
       "      <th>1</th>\n",
       "      <td>2022-04-16</td>\n",
       "      <td>2022-04-24</td>\n",
       "      <td>ATL</td>\n",
       "      <td>BOS</td>\n",
       "      <td>625.200</td>\n",
       "      <td>False</td>\n",
       "      <td>08:20</td>\n",
       "      <td>1.000</td>\n",
       "      <td>0.000</td>\n",
       "      <td>0.000</td>\n",
       "      <td>0.000</td>\n",
       "      <td>3</td>\n",
       "      <td>5</td>\n",
       "      <td>4</td>\n",
       "      <td>2022</td>\n",
       "      <td>6</td>\n",
       "      <td>4</td>\n",
       "      <td>2022</td>\n",
       "      <td>8</td>\n",
       "    </tr>\n",
       "    <tr>\n",
       "      <th>2</th>\n",
       "      <td>2022-04-24</td>\n",
       "      <td>2022-05-18</td>\n",
       "      <td>DEN</td>\n",
       "      <td>SFO</td>\n",
       "      <td>369.600</td>\n",
       "      <td>False</td>\n",
       "      <td>14:23</td>\n",
       "      <td>1.000</td>\n",
       "      <td>0.000</td>\n",
       "      <td>0.000</td>\n",
       "      <td>0.000</td>\n",
       "      <td>2</td>\n",
       "      <td>6</td>\n",
       "      <td>4</td>\n",
       "      <td>2022</td>\n",
       "      <td>2</td>\n",
       "      <td>5</td>\n",
       "      <td>2022</td>\n",
       "      <td>24</td>\n",
       "    </tr>\n",
       "    <tr>\n",
       "      <th>3</th>\n",
       "      <td>2022-04-25</td>\n",
       "      <td>2022-06-16</td>\n",
       "      <td>DTW</td>\n",
       "      <td>JFK</td>\n",
       "      <td>597.100</td>\n",
       "      <td>False</td>\n",
       "      <td>06:00</td>\n",
       "      <td>1.000</td>\n",
       "      <td>0.000</td>\n",
       "      <td>0.000</td>\n",
       "      <td>0.000</td>\n",
       "      <td>3</td>\n",
       "      <td>0</td>\n",
       "      <td>4</td>\n",
       "      <td>2022</td>\n",
       "      <td>3</td>\n",
       "      <td>6</td>\n",
       "      <td>2022</td>\n",
       "      <td>52</td>\n",
       "    </tr>\n",
       "    <tr>\n",
       "      <th>4</th>\n",
       "      <td>2022-04-18</td>\n",
       "      <td>2022-04-25</td>\n",
       "      <td>IAD</td>\n",
       "      <td>ATL</td>\n",
       "      <td>199.100</td>\n",
       "      <td>False</td>\n",
       "      <td>13:50</td>\n",
       "      <td>1.000</td>\n",
       "      <td>0.000</td>\n",
       "      <td>0.000</td>\n",
       "      <td>0.000</td>\n",
       "      <td>2</td>\n",
       "      <td>0</td>\n",
       "      <td>4</td>\n",
       "      <td>2022</td>\n",
       "      <td>0</td>\n",
       "      <td>4</td>\n",
       "      <td>2022</td>\n",
       "      <td>7</td>\n",
       "    </tr>\n",
       "  </tbody>\n",
       "</table>\n",
       "</div>"
      ],
      "text/plain": [
       "  searchDate DepartureDate startingAirport destinationAirport  totalFare  \\\n",
       "0 2022-04-23    2022-05-30             MIA                ATL    667.600   \n",
       "1 2022-04-16    2022-04-24             ATL                BOS    625.200   \n",
       "2 2022-04-24    2022-05-18             DEN                SFO    369.600   \n",
       "3 2022-04-25    2022-06-16             DTW                JFK    597.100   \n",
       "4 2022-04-18    2022-04-25             IAD                ATL    199.100   \n",
       "\n",
       "   isRefundable DepartureTime  coach  business  premium coach  first  \\\n",
       "0         False         15:00  1.000     0.000          0.000  0.000   \n",
       "1         False         08:20  1.000     0.000          0.000  0.000   \n",
       "2         False         14:23  1.000     0.000          0.000  0.000   \n",
       "3         False         06:00  1.000     0.000          0.000  0.000   \n",
       "4         False         13:50  1.000     0.000          0.000  0.000   \n",
       "\n",
       "   numSegments  searchDayOfWeek  searchMonth  searchYear  \\\n",
       "0            2                5            4        2022   \n",
       "1            3                5            4        2022   \n",
       "2            2                6            4        2022   \n",
       "3            3                0            4        2022   \n",
       "4            2                0            4        2022   \n",
       "\n",
       "   DepartureDateDayOfWeek  DepartureDateMonth  DepartureDateYear  \\\n",
       "0                       0                   5               2022   \n",
       "1                       6                   4               2022   \n",
       "2                       2                   5               2022   \n",
       "3                       3                   6               2022   \n",
       "4                       0                   4               2022   \n",
       "\n",
       "   daysInAdvance  \n",
       "0             37  \n",
       "1              8  \n",
       "2             24  \n",
       "3             52  \n",
       "4              7  "
      ]
     },
     "execution_count": 42,
     "metadata": {},
     "output_type": "execute_result"
    }
   ],
   "source": [
    "\n",
    "# Displaying head of cleaned dataset\n",
    "df.head()\n"
   ]
  },
  {
   "cell_type": "markdown",
   "id": "1f6a883b",
   "metadata": {},
   "source": [
    "## Duplicates"
   ]
  },
  {
   "cell_type": "code",
   "execution_count": 43,
   "id": "c4bb17f8",
   "metadata": {},
   "outputs": [
    {
     "data": {
      "text/plain": [
       "198"
      ]
     },
     "execution_count": 43,
     "metadata": {},
     "output_type": "execute_result"
    }
   ],
   "source": [
    "\n",
    "# Are there duplicates in the dataset?\n",
    "df.duplicated().sum()\n"
   ]
  },
  {
   "cell_type": "code",
   "execution_count": 44,
   "id": "12cdc9e3",
   "metadata": {},
   "outputs": [],
   "source": [
    "\n",
    "# Drop duplicates\n",
    "df.drop_duplicates(inplace=True)\n"
   ]
  },
  {
   "cell_type": "markdown",
   "id": "e924ffdf",
   "metadata": {},
   "source": [
    "## Missing values"
   ]
  },
  {
   "cell_type": "markdown",
   "id": "74c925bf",
   "metadata": {},
   "source": [
    "#### Plotting missing values\n",
    "\n",
    "missing values in a dataset are random or have a pattern?"
   ]
  },
  {
   "cell_type": "code",
   "execution_count": 45,
   "id": "41051f86",
   "metadata": {},
   "outputs": [
    {
     "data": {
      "text/plain": [
       "<Axes: >"
      ]
     },
     "execution_count": 45,
     "metadata": {},
     "output_type": "execute_result"
    },
    {
     "data": {
      "image/png": "[encoded data removed]",
      "text/plain": [
       "<Figure size 1500x800 with 2 Axes>"
      ]
     },
     "metadata": {},
     "output_type": "display_data"
    }
   ],
   "source": [
    "import missingno as msno\n",
    "\n",
    "# Calculate the sum of missing values for each column\n",
    "missing_values = df.isnull().sum()\n",
    "\n",
    "# Plot the missing data matrix\n",
    "msno.matrix(df, figsize=(15, 8))\n",
    "\n"
   ]
  },
  {
   "cell_type": "markdown",
   "id": "7bf030dc",
   "metadata": {},
   "source": [
    "## Save df for modelling"
   ]
  },
  {
   "cell_type": "code",
   "execution_count": 46,
   "id": "e4ed7694-d19a-4dd7-a838-6e845da99085",
   "metadata": {
    "tags": []
   },
   "outputs": [
    {
     "data": {
      "text/plain": [
       "['C:\\\\Users\\\\ferra\\\\OneDrive\\\\Escritorio\\\\Master Of Data Science\\\\Advance Machine Learning\\\\Advanced_ML_Ass3\\\\Data\\\\df.joblib']"
      ]
     },
     "execution_count": 46,
     "metadata": {},
     "output_type": "execute_result"
    }
   ],
   "source": [
    "# Specify the filename to save the dataset\n",
    "filename = r\"C:\\Users\\ferra\\OneDrive\\Escritorio\\Master Of Data Science\\Advance Machine Learning\\Advanced_ML_Ass3\\Data\\df.joblib\"\n",
    "\n",
    "# Save the dataset to the joblib file\n",
    "joblib.dump(df, filename)"
   ]
  },
  {
   "cell_type": "markdown",
   "id": "03ccc742",
   "metadata": {},
   "source": [
    "## End of Part 1"
   ]
  }
 ],
 "metadata": {
  "kernelspec": {
   "display_name": "Python 3 (ipykernel)",
   "language": "python",
   "name": "python3"
  },
  "language_info": {
   "codemirror_mode": {
    "name": "ipython",
    "version": 3
   },
   "file_extension": ".py",
   "mimetype": "text/x-python",
   "name": "python",
   "nbconvert_exporter": "python",
   "pygments_lexer": "ipython3",
   "version": "3.10.9"
  }
 },
 "nbformat": 4,
 "nbformat_minor": 5
}
